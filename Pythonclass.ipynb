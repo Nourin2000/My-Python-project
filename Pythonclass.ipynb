{
 "cells": [
  {
   "cell_type": "code",
   "execution_count": 1,
   "id": "e3ad410f-5e77-4329-899c-27317b9022de",
   "metadata": {},
   "outputs": [
    {
     "name": "stdout",
     "output_type": "stream",
     "text": [
      "7\n"
     ]
    }
   ],
   "source": [
    "print(5+2)"
   ]
  },
  {
   "cell_type": "code",
   "execution_count": 3,
   "id": "0d6c38f3-2bcc-4333-9d31-1fe14b757976",
   "metadata": {},
   "outputs": [
    {
     "name": "stdout",
     "output_type": "stream",
     "text": [
      "3\n"
     ]
    }
   ],
   "source": [
    "print(5-2)"
   ]
  },
  {
   "cell_type": "code",
   "execution_count": 5,
   "id": "13a2b4f5-343d-492c-95e9-d4fcd6c8cea6",
   "metadata": {},
   "outputs": [
    {
     "name": "stdout",
     "output_type": "stream",
     "text": [
      "10\n"
     ]
    }
   ],
   "source": [
    "print(5*2)"
   ]
  },
  {
   "cell_type": "code",
   "execution_count": 7,
   "id": "66bab997-8d4a-42b9-8042-ee825453e205",
   "metadata": {},
   "outputs": [
    {
     "name": "stdout",
     "output_type": "stream",
     "text": [
      "5.0\n"
     ]
    }
   ],
   "source": [
    "print(10/2)"
   ]
  },
  {
   "cell_type": "code",
   "execution_count": 9,
   "id": "11ead771-e8f8-4a43-a17f-019f92303acc",
   "metadata": {},
   "outputs": [
    {
     "name": "stdout",
     "output_type": "stream",
     "text": [
      "27\n"
     ]
    }
   ],
   "source": [
    "print(3**3)"
   ]
  },
  {
   "cell_type": "code",
   "execution_count": 11,
   "id": "a735eaa0-0146-497b-9e5b-be74ddb12c10",
   "metadata": {},
   "outputs": [
    {
     "name": "stdout",
     "output_type": "stream",
     "text": [
      "196.0\n"
     ]
    }
   ],
   "source": [
    "print(((1+3)*(9-2)/2)**2)"
   ]
  },
  {
   "cell_type": "code",
   "execution_count": 13,
   "id": "3c32eb7d-dd45-4ee5-b751-166bd310fe05",
   "metadata": {},
   "outputs": [
    {
     "name": "stdout",
     "output_type": "stream",
     "text": [
      "9\n"
     ]
    }
   ],
   "source": [
    "num1=5\n",
    "num2=4\n",
    "print(num1+num2)"
   ]
  },
  {
   "cell_type": "code",
   "execution_count": 15,
   "id": "1dcc1a75-ae71-4936-910b-f34414ae0985",
   "metadata": {},
   "outputs": [
    {
     "name": "stdout",
     "output_type": "stream",
     "text": [
      "10\n",
      "5\n",
      "55\n"
     ]
    }
   ],
   "source": [
    "num1=10\n",
    "print(num1)\n",
    "\n",
    "num1=5\n",
    "print(num1)\n",
    "\n",
    "num1=num1+50\n",
    "print(num1)"
   ]
  },
  {
   "cell_type": "code",
   "execution_count": 17,
   "id": "adfcf0d1-6817-4c9b-b52e-5a0fd4eafe25",
   "metadata": {},
   "outputs": [
    {
     "name": "stdout",
     "output_type": "stream",
     "text": [
      "55\n",
      "4\n"
     ]
    }
   ],
   "source": [
    "print(num1)\n",
    "print(num2)"
   ]
  },
  {
   "cell_type": "code",
   "execution_count": 29,
   "id": "4a81ccc7-3827-4a22-be95-70d9a115b315",
   "metadata": {},
   "outputs": [
    {
     "name": "stdout",
     "output_type": "stream",
     "text": [
      "126144000\n"
     ]
    }
   ],
   "source": [
    "# Create variables\n",
    "num_years=4\n",
    "days_per_year=365\n",
    "hours_per_day=24\n",
    "mins_per_hour=60\n",
    "secs_per_min=60\n",
    "\n",
    "# Calculate number of seconds in four years\n",
    "total_secs= secs_per_min*mins_per_hour*hours_per_day*days_per_year*num_years\n",
    "print(total_secs)"
   ]
  },
  {
   "cell_type": "code",
   "execution_count": 33,
   "id": "90fb20ea-e1d5-428e-bcbc-572e0b0a8b14",
   "metadata": {},
   "outputs": [
    {
     "name": "stdout",
     "output_type": "stream",
     "text": [
      "126230400.0\n"
     ]
    }
   ],
   "source": [
    "# Update to include leap years\n",
    "days_per_year=365.25\n",
    "\n",
    "# Calculate number of seconds in four years\n",
    "total_secs=secs_per_min*mins_per_hour*hours_per_day*days_per_year*num_years\n",
    "print(total_secs)"
   ]
  },
  {
   "cell_type": "code",
   "execution_count": 35,
   "id": "85a2cb41-9a9c-4281-bd70-87222bef238d",
   "metadata": {},
   "outputs": [
    {
     "name": "stdout",
     "output_type": "stream",
     "text": [
      "24\n"
     ]
    }
   ],
   "source": [
    "print(hours_per_day)\n"
   ]
  },
  {
   "cell_type": "code",
   "execution_count": 37,
   "id": "5388a4dc-cc15-49f9-aa8f-d0b37593d78e",
   "metadata": {},
   "outputs": [
    {
     "name": "stdout",
     "output_type": "stream",
     "text": [
      "Nourin Alam Nupur\n"
     ]
    }
   ],
   "source": [
    "print(\"Nourin Alam Nupur\")"
   ]
  },
  {
   "cell_type": "code",
   "execution_count": 39,
   "id": "976b382e-6902-4616-b3bf-9b584620d28b",
   "metadata": {},
   "outputs": [],
   "source": [
    "# Comment"
   ]
  },
  {
   "cell_type": "code",
   "execution_count": 43,
   "id": "13210b3b-8c2f-41fe-a011-48c00698d97b",
   "metadata": {},
   "outputs": [
    {
     "name": "stdout",
     "output_type": "stream",
     "text": [
      "360\n"
     ]
    }
   ],
   "source": [
    "# Create variable\n",
    "hours_per_day=24\n",
    "accidents_per_hour=15\n",
    "\n",
    "# Calculate accident per day\n",
    "accidents_per_day=hours_per_day*accidents_per_hour\n",
    "print(accidents_per_day)\n"
   ]
  },
  {
   "cell_type": "code",
   "execution_count": 45,
   "id": "af4306c0-d6ab-47e7-bf22-89cbbc0d4740",
   "metadata": {},
   "outputs": [],
   "source": [
    "def add(n1,n2):\n",
    "    total=n1+n2\n",
    "    return total \n"
   ]
  },
  {
   "cell_type": "code",
   "execution_count": 47,
   "id": "c99677c7-3eab-433c-bc30-fd2bae93667d",
   "metadata": {},
   "outputs": [
    {
     "name": "stdout",
     "output_type": "stream",
     "text": [
      "15\n",
      "5\n",
      "10\n"
     ]
    }
   ],
   "source": [
    "num1=5\n",
    "num2=10\n",
    "sum=add(num1,num2)\n",
    "print(sum)\n",
    "\n",
    "sum=add(3,2)\n",
    "print(sum)\n",
    "\n",
    "sum=add(5,5)\n",
    "print(sum)"
   ]
  },
  {
   "cell_type": "code",
   "execution_count": 1,
   "id": "a7add989-0d1d-4f2c-9fd6-351557b52ab9",
   "metadata": {},
   "outputs": [],
   "source": [
    "def get_pay(num_hours):\n",
    "    #pre-tax pay,based on receving BDT 2000/hours\n",
    "    pay_pretax=num_hours*2000\n",
    "    #after-tax pay,based on being in 12% tax bracket\n",
    "    pay_aftertax=pay_pretax*(1-.12)\n",
    "    return pay_aftertax"
   ]
  },
  {
   "cell_type": "code",
   "execution_count": 3,
   "id": "cd183da8-cbe9-42ae-8436-06f50b4af34e",
   "metadata": {},
   "outputs": [
    {
     "name": "stdout",
     "output_type": "stream",
     "text": [
      "140800.0\n"
     ]
    }
   ],
   "source": [
    "payment=get_pay(80)\n",
    "print(payment)"
   ]
  },
  {
   "cell_type": "code",
   "execution_count": 5,
   "id": "6ae0da50-5e78-42dc-80df-52c89b0f3889",
   "metadata": {},
   "outputs": [
    {
     "name": "stdout",
     "output_type": "stream",
     "text": [
      "You will get 140800.0 BDT\n"
     ]
    }
   ],
   "source": [
    "print(f\"You will get {payment} BDT\")"
   ]
  },
  {
   "cell_type": "code",
   "execution_count": 29,
   "id": "96cd7845-3671-4e2a-831b-5b3146b4d94c",
   "metadata": {},
   "outputs": [
    {
     "name": "stdout",
     "output_type": "stream",
     "text": [
      "150000\n"
     ]
    }
   ],
   "source": [
    "def get_expected_cost(beds,baths):\n",
    "    cost=80000+beds*30000+baths*10000\n",
    "    return cost\n",
    "\n",
    "\n",
    "house1=get_expected_cost(2,1)\n",
    "print(house1)\n",
    "    "
   ]
  },
  {
   "cell_type": "code",
   "execution_count": 31,
   "id": "f72e7d0a-f50e-4efc-9838-f484d4a50326",
   "metadata": {},
   "outputs": [
    {
     "name": "stdout",
     "output_type": "stream",
     "text": [
      "your cost will be150000 BDT\n"
     ]
    }
   ],
   "source": [
    "print(f\"your cost will be{house1} BDT\")"
   ]
  },
  {
   "cell_type": "code",
   "execution_count": 7,
   "id": "71f115d8-d724-44d3-9a84-ead5cc967a69",
   "metadata": {},
   "outputs": [],
   "source": [
    "def get_pay_with_more_inputs(num_hours,hourly_wage,tax_bracket):\n",
    "    # Pre-tax pay\n",
    "    pay_pretax= num_hours*hourly_wage\n",
    "    #After-tax pay\n",
    "    pay_aftertax=pay_pretax*(1-tax_bracket/100)\n",
    "    return pay_aftertax"
   ]
  },
  {
   "cell_type": "code",
   "execution_count": 19,
   "id": "2b5a91a2-edcc-43c4-8e3d-22b64b290b28",
   "metadata": {},
   "outputs": [
    {
     "name": "stdout",
     "output_type": "stream",
     "text": [
      "140800.0\n"
     ]
    }
   ],
   "source": [
    "bill=get_pay_with_more_inputs(80, 2000, 12)\n",
    "print(bill)"
   ]
  },
  {
   "cell_type": "code",
   "execution_count": 55,
   "id": "b3224c05-1cf6-478e-a3e6-305fe118b6b1",
   "metadata": {},
   "outputs": [],
   "source": [
    "import math\n",
    "\n",
    "def get_cost(sqft_walls,sqft_ceiling,sqft_per_gallon,cost_per_gallon):\n",
    "    cost=math.ceil((sqft_walls+sqft_ceiling)/sqft_per_gallon)*cost_per_gallon\n",
    "    \n",
    "    return cost"
   ]
  },
  {
   "cell_type": "code",
   "execution_count": 59,
   "id": "97351fac-d182-4424-9911-91161644e952",
   "metadata": {},
   "outputs": [
    {
     "name": "stdout",
     "output_type": "stream",
     "text": [
      "30\n"
     ]
    }
   ],
   "source": [
    "print(cost)"
   ]
  },
  {
   "cell_type": "code",
   "execution_count": 61,
   "id": "5ee705dc-68db-45f3-8ed0-94fdd4ffc9bd",
   "metadata": {},
   "outputs": [
    {
     "name": "stdout",
     "output_type": "stream",
     "text": [
      "5\n",
      "<class 'int'>\n"
     ]
    }
   ],
   "source": [
    "x=5\n",
    "print(x)\n",
    "print(type(x))"
   ]
  },
  {
   "cell_type": "code",
   "execution_count": 63,
   "id": "133cf0e6-f798-4b51-a124-63fba8b388dc",
   "metadata": {},
   "outputs": [
    {
     "name": "stdout",
     "output_type": "stream",
     "text": [
      "3.434224123\n",
      "<class 'float'>\n"
     ]
    }
   ],
   "source": [
    "x=3.434224123\n",
    "print(x)\n",
    "print(type(x))"
   ]
  },
  {
   "cell_type": "code",
   "execution_count": 67,
   "id": "c7750236-8201-4127-a38d-46b8f86dc890",
   "metadata": {},
   "outputs": [
    {
     "name": "stdout",
     "output_type": "stream",
     "text": [
      "3.142857142857143\n",
      "<class 'float'>\n"
     ]
    }
   ],
   "source": [
    "almost_pi=22/7\n",
    "print(almost_pi)\n",
    "print(type(almost_pi))"
   ]
  },
  {
   "cell_type": "code",
   "execution_count": 71,
   "id": "c63855da-fd86-4f09-b934-f0cc009c5bfc",
   "metadata": {},
   "outputs": [
    {
     "name": "stdout",
     "output_type": "stream",
     "text": [
      "True\n",
      "<class 'bool'>\n",
      "False\n",
      "<class 'bool'>\n"
     ]
    }
   ],
   "source": [
    "z_one=True\n",
    "print(z_one)\n",
    "print(type(z_one))\n",
    "\n",
    "z_two=False\n",
    "print(z_two)\n",
    "print(type(z_two))\n"
   ]
  },
  {
   "cell_type": "code",
   "execution_count": 73,
   "id": "54ae2953-4508-4e30-ac9f-1a47b756e217",
   "metadata": {},
   "outputs": [
    {
     "name": "stdout",
     "output_type": "stream",
     "text": [
      "1\n",
      "<class 'int'>\n"
     ]
    }
   ],
   "source": [
    "my_number=1\n",
    "print(my_number)\n",
    "print(type(my_number))"
   ]
  },
  {
   "cell_type": "code",
   "execution_count": 75,
   "id": "89f4367f-b95f-45b6-97f7-f4a6ba0fdea2",
   "metadata": {},
   "outputs": [
    {
     "name": "stdout",
     "output_type": "stream",
     "text": [
      "1.0\n",
      "<class 'float'>\n"
     ]
    }
   ],
   "source": [
    "also_my_number=float(my_number)\n",
    "print(also_my_number)\n",
    "print(type(also_my_number))"
   ]
  },
  {
   "cell_type": "code",
   "execution_count": 77,
   "id": "818ee110-7579-4d0c-9ab8-cc4ec0bcdd88",
   "metadata": {},
   "outputs": [
    {
     "name": "stdout",
     "output_type": "stream",
     "text": [
      "1.234\n",
      "<class 'float'>\n"
     ]
    }
   ],
   "source": [
    "my_number=1.234\n",
    "print(my_number)\n",
    "print(type(my_number))"
   ]
  },
  {
   "cell_type": "code",
   "execution_count": 81,
   "id": "18dead33-0fe1-4b96-adca-e9f2c47e1ff1",
   "metadata": {},
   "outputs": [
    {
     "name": "stdout",
     "output_type": "stream",
     "text": [
      "1\n",
      "<class 'int'>\n"
     ]
    }
   ],
   "source": [
    "also_my_number=int(my_number)\n",
    "print(also_my_number)\n",
    "print(type(also_my_number))"
   ]
  },
  {
   "cell_type": "code",
   "execution_count": 91,
   "id": "03393476-8a04-47b7-ae83-8f0d2c464463",
   "metadata": {},
   "outputs": [
    {
     "name": "stdout",
     "output_type": "stream",
     "text": [
      "5\n",
      "<class 'int'>\n",
      "0\n",
      "<class 'int'>\n",
      "-6\n",
      "<class 'int'>\n",
      "0\n",
      "<class 'int'>\n",
      "4\n",
      "<class 'str'>\n",
      "\n",
      "<class 'str'>\n"
     ]
    }
   ],
   "source": [
    "a=5\n",
    "d=-6\n",
    "e=\"4\"\n",
    "b= True\n",
    "c=False \n",
    "print(a*b)\n",
    "print(type(a*b))\n",
    "print(a*c)\n",
    "print(type(a*c))\n",
    "print(d*b)\n",
    "print(type(d*b))\n",
    "print(d*c)\n",
    "print(type(d*c))\n",
    "print(e*b)\n",
    "print(type(e*b))\n",
    "print(e*c)\n",
    "print(type(e*c))\n"
   ]
  },
  {
   "cell_type": "code",
   "execution_count": 3,
   "id": "58bf629f-5d8a-4e96-a8e4-e99746e31630",
   "metadata": {},
   "outputs": [],
   "source": [
    "def cost_of_project(engraving, solid_gold):\n",
    "    \n",
    "    base_cost=100 if solid_gold else 50\n",
    "    \n",
    "    engraving_cost_per_unit=10 if solid_gold else 7\n",
    "    \n",
    "    total_cost=base_cost+len(engraving)*engraving_cost_per_unit\n",
    "    \n",
    "    return total_cost"
   ]
  },
  {
   "cell_type": "code",
   "execution_count": 5,
   "id": "d700d9e8-b6c3-47b9-ad88-33febf9dff74",
   "metadata": {},
   "outputs": [
    {
     "name": "stdout",
     "output_type": "stream",
     "text": [
      "130\n"
     ]
    }
   ],
   "source": [
    "project_one = cost_of_project(\"M+P\",True)\n",
    "print(project_one)"
   ]
  },
  {
   "cell_type": "code",
   "execution_count": 35,
   "id": "dcf00d98-9fed-4760-8a20-475e9390924b",
   "metadata": {},
   "outputs": [],
   "source": [
    "def cost_of_project(engraving,solid_gold):\n",
    "    solid_gold= True\n",
    "    not_solid_gold=False\n",
    "    cost=solid_gold*(100+len(engraving)*10)+not_solid_gold*(50+len(engraving)*7)\n",
    "    return cost"
   ]
  },
  {
   "cell_type": "code",
   "execution_count": 31,
   "id": "760e8d2c-d1de-4131-9139-2b624eb78d36",
   "metadata": {},
   "outputs": [
    {
     "name": "stdout",
     "output_type": "stream",
     "text": [
      "150\n"
     ]
    }
   ],
   "source": [
    "project_one = cost_of_project(\"Tonoy\",True)\n",
    "print(project_one)"
   ]
  },
  {
   "cell_type": "code",
   "execution_count": 43,
   "id": "a1d18647-1743-452d-a333-6676c42e90a4",
   "metadata": {},
   "outputs": [],
   "source": [
    "def cost_of_project(engraving,solid_gold):\n",
    "    solid_gold=False\n",
    "    not_solid_gold=True\n",
    "    cost=solid_gold*(100+len(engraving)*10)+not_solid_gold*(50+len(engraving)*7)\n",
    "    return cost"
   ]
  },
  {
   "cell_type": "code",
   "execution_count": 45,
   "id": "4a7a4768-a83e-42d6-a72f-16f7328a195f",
   "metadata": {},
   "outputs": [
    {
     "name": "stdout",
     "output_type": "stream",
     "text": [
      "85\n"
     ]
    }
   ],
   "source": [
    "project_one = cost_of_project(\"Tonoy\",True)\n",
    "print(project_one)"
   ]
  },
  {
   "cell_type": "code",
   "execution_count": 47,
   "id": "d4a316e7-34da-499e-9b2b-716a18559462",
   "metadata": {},
   "outputs": [
    {
     "name": "stdout",
     "output_type": "stream",
     "text": [
      "you have got A+\n",
      "you have got A\n"
     ]
    }
   ],
   "source": [
    "print(\"you have got A+\")\n",
    "print(\"you have got A\")\n"
   ]
  },
  {
   "cell_type": "code",
   "execution_count": 53,
   "id": "f30d5abd-7b35-4ce7-ac40-c129bf73958b",
   "metadata": {},
   "outputs": [
    {
     "name": "stdout",
     "output_type": "stream",
     "text": [
      "you have got A+\n"
     ]
    }
   ],
   "source": [
    "marks=87\n",
    "if marks >=80:\n",
    "    print(\"you have got A+\")\n",
    "    "
   ]
  },
  {
   "cell_type": "code",
   "execution_count": 55,
   "id": "d1fbd063-0aa5-4bfb-8d04-c694693b851d",
   "metadata": {},
   "outputs": [
    {
     "name": "stdout",
     "output_type": "stream",
     "text": [
      "you have got A\n"
     ]
    }
   ],
   "source": [
    "marks=78\n",
    "\n",
    "if marks>=80:\n",
    "    print(\"you have got A+\")\n",
    "else:\n",
    "    print(\"you have got A\")"
   ]
  },
  {
   "cell_type": "code",
   "execution_count": 57,
   "id": "9b0cefb6-32bd-4f15-90b8-e5fd68bb9b99",
   "metadata": {},
   "outputs": [
    {
     "name": "stdout",
     "output_type": "stream",
     "text": [
      "you have got A\n"
     ]
    }
   ],
   "source": [
    "marks=78\n",
    "if marks>=80:\n",
    "    print(\"you have got A+\")\n",
    "elif marks>=75:\n",
    "        print(\"you have got A\")\n",
    "elif marks>=70:\n",
    "    print(\"you have got A-\")\n",
    "elif marks>=65:\n",
    "    print(\"you have got B+\")\n",
    "elif marks>=60:\n",
    "    print(\"you have got B\")\n",
    "elif marks>=55:\n",
    "    print(\"you have got B-\")\n",
    "elif marks>=50:\n",
    "    print(\"you have got C+\")\n",
    "elif marks>=45:\n",
    "    print(\"you have got C\")\n",
    "elif marks>=40:\n",
    "    print(\"you have got D\")\n",
    "else: \n",
    "    print(\"you have got F\")\n",
    "\n",
    "\n",
    "\n",
    "\n",
    "\n",
    "\n",
    "    \n",
    "\n"
   ]
  },
  {
   "cell_type": "code",
   "execution_count": 75,
   "id": "6e179c7d-5562-41e2-aef9-f541e71c765c",
   "metadata": {},
   "outputs": [
    {
     "name": "stdout",
     "output_type": "stream",
     "text": [
      "you have got invalid\n"
     ]
    }
   ],
   "source": [
    "marks=112\n",
    "if marks>=80 and marks<=100:\n",
    "    print(\"you have got A+\")\n",
    "elif marks>=75 and marks<=79:\n",
    "        print(\"you have got A\")\n",
    "elif marks>=70 and marks<=74:\n",
    "    print(\"you have got A-\")\n",
    "elif marks>=65 and marks<=69:\n",
    "    print(\"you have got B+\")\n",
    "elif marks>=60 and marks<=64:\n",
    "    print(\"you have got B\")\n",
    "elif marks>=55 and marks<=59:\n",
    "    print(\"you have got B-\")\n",
    "elif marks>=50 and marks<=54:\n",
    "    print(\"you have got C+\")\n",
    "elif marks>=45 and marks<=48:\n",
    "    print(\"you have got C\")\n",
    "elif marks>=40 and marks<=44:\n",
    "    print(\"you have got D\")\n",
    "elif marks>=0 and marks<=39:\n",
    "    print(\"you have got F\")\n",
    "else:\n",
    "    print(\"you have got invalid\")\n",
    "\n",
    "\n"
   ]
  },
  {
   "cell_type": "code",
   "execution_count": 3,
   "id": "875105cf-1787-4931-8e97-28646d3e7a33",
   "metadata": {},
   "outputs": [
    {
     "ename": "SyntaxError",
     "evalue": "unmatched ')' (1285978695.py, line 5)",
     "output_type": "error",
     "traceback": [
      "\u001b[1;36m  Cell \u001b[1;32mIn[3], line 5\u001b[1;36m\u001b[0m\n\u001b[1;33m    cost=50+len(engraving)*7)\u001b[0m\n\u001b[1;37m                            ^\u001b[0m\n\u001b[1;31mSyntaxError\u001b[0m\u001b[1;31m:\u001b[0m unmatched ')'\n"
     ]
    }
   ],
   "source": [
    "def cost_of_project(engraving,solid_gold):\n",
    "    if solid_gold==True:\n",
    "    cost=100+len(engraving)*10\n",
    "    else:\n",
    "    cost=50+len(engraving)*7)\n",
    "\n",
    "    return cost"
   ]
  },
  {
   "cell_type": "code",
   "execution_count": 23,
   "id": "661444f6-1d7a-446a-803a-2b78321ca9f4",
   "metadata": {},
   "outputs": [],
   "source": [
    "def cost_of_project(engraving,solid_gold):\n",
    "    if solid_gold== True:\n",
    "        cost= solid_gold*(100+len(engraving)*10) \n",
    "    else:\n",
    "        cost= (50+len(engraving)*7)\n",
    "    return cost"
   ]
  },
  {
   "cell_type": "code",
   "execution_count": 25,
   "id": "38ce50c4-be78-4748-8ca2-f4fedde405bb",
   "metadata": {},
   "outputs": [
    {
     "name": "stdout",
     "output_type": "stream",
     "text": [
      "150\n"
     ]
    }
   ],
   "source": [
    "project_one = cost_of_project(\"Tonoy\",True)\n",
    "print(project_one)"
   ]
  },
  {
   "cell_type": "code",
   "execution_count": 54,
   "id": "1fe7a6d3-0443-44a4-8680-1c0d6baae8b3",
   "metadata": {},
   "outputs": [],
   "source": [
    "def get_water_bill(num_of_gallon):\n",
    "    if  num_of_gallon>=30001:\n",
    "       cost = 10*(num_of_gallon/1000)\n",
    "    elif   num_of_gallon>=22001:\n",
    "          cost= 7*(num_of_gallon/1000)\n",
    "    \n",
    "    elif num_of_gallon>=8001:\n",
    "        cost= 6*(num_of_gallon/1000)\n",
    "\n",
    "    else:\n",
    "        cost = 5*(num_of_gallon/1000)\n",
    "   \n",
    "    return cost\n",
    "\n",
    "\n",
    "         "
   ]
  },
  {
   "cell_type": "code",
   "execution_count": 62,
   "id": "98a57376-9359-4e3d-a0ee-8e2dccc7f035",
   "metadata": {},
   "outputs": [
    {
     "name": "stdout",
     "output_type": "stream",
     "text": [
      "60.0\n"
     ]
    }
   ],
   "source": [
    "print(get_water_bill(10000))"
   ]
  },
  {
   "cell_type": "code",
   "execution_count": 5,
   "id": "dab3459f-9116-42d5-8621-4d9d9929d54c",
   "metadata": {},
   "outputs": [
    {
     "name": "stdout",
     "output_type": "stream",
     "text": [
      "['Nupur', 'Samiha', 'Jeba', 'Ridita']\n"
     ]
    }
   ],
   "source": [
    "students_list=[\"Nupur\",\"Samiha\",\"Jeba\",\"Ridita\"]\n",
    "\n",
    "print(students_list)"
   ]
  },
  {
   "cell_type": "code",
   "execution_count": 7,
   "id": "ddd2f60c-7c0c-4476-8af3-fbc15d27f98f",
   "metadata": {},
   "outputs": [
    {
     "name": "stdout",
     "output_type": "stream",
     "text": [
      "<class 'list'>\n",
      "4\n"
     ]
    }
   ],
   "source": [
    "print(type(students_list))\n",
    "print(len(students_list))"
   ]
  },
  {
   "cell_type": "code",
   "execution_count": 11,
   "id": "9b1f68da-ee47-40a1-a3b7-481479221aed",
   "metadata": {},
   "outputs": [
    {
     "name": "stdout",
     "output_type": "stream",
     "text": [
      "First Entry: Nupur\n"
     ]
    }
   ],
   "source": [
    "print(\"First Entry:\",students_list[0])"
   ]
  },
  {
   "cell_type": "code",
   "execution_count": 13,
   "id": "374bfe51-bca4-499c-85f9-d25ce760de4e",
   "metadata": {},
   "outputs": [
    {
     "name": "stdout",
     "output_type": "stream",
     "text": [
      "First Entry: Samiha\n"
     ]
    }
   ],
   "source": [
    "print(\"First Entry:\",students_list[-3])"
   ]
  },
  {
   "cell_type": "code",
   "execution_count": 15,
   "id": "482da93b-3a83-4274-9481-e3a6859ef7b7",
   "metadata": {},
   "outputs": [
    {
     "name": "stdout",
     "output_type": "stream",
     "text": [
      "First two Entry: ['Nupur', 'Samiha']\n",
      "['Samiha', 'Jeba']\n",
      "Last two Entry: ['Jeba', 'Ridita']\n"
     ]
    }
   ],
   "source": [
    "print(\"First two Entry:\",students_list[:2])\n",
    "print(students_list[1:3])\n",
    "print(\"Last two Entry:\",students_list[-2:])"
   ]
  },
  {
   "cell_type": "code",
   "execution_count": 17,
   "id": "e4ea4120-1b0d-47d4-bc0d-0c8917f4b5aa",
   "metadata": {},
   "outputs": [
    {
     "name": "stdout",
     "output_type": "stream",
     "text": [
      " ['Samiha', 'Jeba']\n"
     ]
    }
   ],
   "source": [
    "print(\"\",students_list[-3:-1])"
   ]
  },
  {
   "cell_type": "code",
   "execution_count": 25,
   "id": "8d15dca7-96b3-4aa1-97a5-97645bc9a38c",
   "metadata": {},
   "outputs": [],
   "source": [
    "students_list=[\"Nupur\",\"Samiha\",\"Jeba\",\"Ridita\"]\n",
    "students_list.remove(\"Nupur\")\n"
   ]
  },
  {
   "cell_type": "code",
   "execution_count": 27,
   "id": "13d4208f-a2c2-45f9-8674-3f5c5dd845c7",
   "metadata": {},
   "outputs": [
    {
     "name": "stdout",
     "output_type": "stream",
     "text": [
      "['stewed meat with onions', 'risotto with trout and shrimp', 'fish soup', 'gryo', 'roasted beet salad']\n"
     ]
    }
   ],
   "source": [
    "menu=['stewed meat with onions','bean soup','risotto with trout and shrimp','fish soup','gryo']\n",
    "menu.remove('bean soup')\n",
    "menu.append('roasted beet salad')\n",
    "print(menu)"
   ]
  },
  {
   "cell_type": "code",
   "execution_count": 31,
   "id": "948caff1-557a-43a3-8c9a-a89b5cf946ca",
   "metadata": {},
   "outputs": [
    {
     "name": "stdout",
     "output_type": "stream",
     "text": [
      "150.85714285714286\n"
     ]
    }
   ],
   "source": [
    "num_customers=[137,147,135,128,170,174,165,146,126,159,141,148,132,147,168,153,170,161,148,152,141,151,131,149,164,163,143,143,166,171]\n",
    "cust_first_seven=[137,147,135,128,170,174,165]\n",
    "sum_first_seven=sum(cust_first_seven)\n",
    "avg_first_seven=sum_first_seven/7\n",
    "print(avg_first_seven)\n",
    "\n",
    "\n"
   ]
  },
  {
   "cell_type": "code",
   "execution_count": 35,
   "id": "cbbee188-9513-4a64-a80c-5d8d159572c4",
   "metadata": {},
   "outputs": [
    {
     "name": "stdout",
     "output_type": "stream",
     "text": [
      "150.85714285714286\n"
     ]
    }
   ],
   "source": [
    "num_customers=[137,147,135,128,170,174,165,146,126,159,141,148,132,147,168,153,170,161,148,152,141,151,131,149,164,163,143,143,166,171]\n",
    "avg_first_seven=sum(num_customers[:7])/len(num_customers[:7])\n",
    "print(avg_first_seven)"
   ]
  },
  {
   "cell_type": "code",
   "execution_count": 41,
   "id": "483d18da-745f-4a93-ba92-39ae38a21b7a",
   "metadata": {},
   "outputs": [
    {
     "name": "stdout",
     "output_type": "stream",
     "text": [
      "157.0\n"
     ]
    }
   ],
   "source": [
    "avg_last_seven=sum(num_customers[-7:])/len(num_customers[-7:])\n",
    "print(avg_last_seven)"
   ]
  },
  {
   "cell_type": "code",
   "execution_count": 47,
   "id": "25ed8f00-db4a-4193-8bd8-bb9ad6822d31",
   "metadata": {},
   "outputs": [
    {
     "name": "stdout",
     "output_type": "stream",
     "text": [
      "174\n",
      "126\n"
     ]
    }
   ],
   "source": [
    "max_month=max(num_customers)\n",
    "min_month=min(num_customers)\n",
    "print(max_month)\n",
    "print(min_month)"
   ]
  },
  {
   "cell_type": "code",
   "execution_count": 7,
   "id": "0a58a8d0-4543-41a6-b78a-d1732b26b90e",
   "metadata": {},
   "outputs": [
    {
     "name": "stdout",
     "output_type": "stream",
     "text": [
      "['Nupur', 'Samiha', 'Jeba', 'Ridita']\n",
      "<class 'list'>\n",
      "4\n"
     ]
    }
   ],
   "source": [
    "students_list=(\"Nupur,Samiha,Jeba,Ridita\")\n",
    "mylist=students_list.split(\",\")\n",
    "print(mylist)\n",
    "print(type(mylist))\n",
    "print(len(mylist))\n"
   ]
  },
  {
   "cell_type": "code",
   "execution_count": 9,
   "id": "a88ee174-3960-49f3-a221-1ec9bb8bf6b6",
   "metadata": {},
   "outputs": [
    {
     "name": "stdout",
     "output_type": "stream",
     "text": [
      "['A', 'B', 'C', 'D', 'E', 'F', 'G', 'H', 'I', 'J', 'K', 'L', 'M', 'N', 'O', 'P', 'Q', 'R', 'S', 'T', 'U', 'V', 'W', 'X', 'Y', 'Z']\n"
     ]
    }
   ],
   "source": [
    "alphabate=(\"A.B.C.D.E.F.G.H.I.J.K.L.M.N.O.P.Q.R.S.T.U.V.W.X.Y.Z\")\n",
    "address=\"Mr.H.Potter,The cupboard under the Strars,4 private Drive,Little Whinging,Surrey\"\n",
    "\n",
    "letters=alphabate.split(\".\")\n",
    "print(letters)"
   ]
  },
  {
   "cell_type": "code",
   "execution_count": 13,
   "id": "2f975135-5cad-4296-8ba8-c1bfc1d2d7e8",
   "metadata": {},
   "outputs": [
    {
     "name": "stdout",
     "output_type": "stream",
     "text": [
      "['Mr.H.Potter', 'The cupboard under the Strars', '4 private Drive', 'Little Whinging', 'Surrey']\n"
     ]
    }
   ],
   "source": [
    "formated_address=address.split(\",\")\n",
    "print(formated_address)"
   ]
  },
  {
   "cell_type": "code",
   "execution_count": 5,
   "id": "3205f418-3e52-4d61-bfdd-7ba8fb721ce3",
   "metadata": {},
   "outputs": [
    {
     "name": "stdout",
     "output_type": "stream",
     "text": [
      "Growth percentage: 3.629533421163837\n",
      "Growth percentage: 66.15639847417742\n"
     ]
    }
   ],
   "source": [
    "def percentage_growth(num_users,yrs_ago):\n",
    "    \n",
    "    previous_year_users = num_users[-1 - yrs_ago]\n",
    "    current_year_users = num_users[-1]\n",
    "    growth = (current_year_users - previous_year_users) / previous_year_users*100\n",
    "    return growth\n",
    "\n",
    "num_users = [920344, 1043553, 1204334, 1458996, 1503323, 1593432, 1623463, 1843064, 1930992, 2001078]\n",
    "yrs_ago = 1\n",
    "print(\"Growth percentage:\", percentage_growth(num_users, yrs_ago))\n",
    "\n",
    "#  example with 7 years ago:\n",
    "yrs_ago = 7\n",
    "print(\"Growth percentage:\", percentage_growth(num_users, yrs_ago))"
   ]
  },
  {
   "cell_type": "code",
   "execution_count": 13,
   "id": "5295968c-5197-4ddf-84d1-7b42e2ded282",
   "metadata": {},
   "outputs": [
    {
     "data": {
      "text/plain": [
       "6"
      ]
     },
     "execution_count": 13,
     "metadata": {},
     "output_type": "execute_result"
    }
   ],
   "source": [
    "x=3\n",
    "y=3\n",
    "z=x+y\n",
    "z"
   ]
  },
  {
   "cell_type": "code",
   "execution_count": 1,
   "id": "bad4f554-6b94-411e-9c38-d8fb9af2b71f",
   "metadata": {},
   "outputs": [
    {
     "name": "stdout",
     "output_type": "stream",
     "text": [
      "mercury\n",
      "venus\n",
      "Earth\n",
      "Mars\n",
      "Jupiter\n"
     ]
    }
   ],
   "source": [
    " planets=['mercury','venus','Earth','Mars','Jupiter']\n",
    "for planet in planets:\n",
    "    print(planet)\n"
   ]
  },
  {
   "cell_type": "code",
   "execution_count": 3,
   "id": "5aa45828-6334-445c-b466-ae83fd67198d",
   "metadata": {},
   "outputs": [
    {
     "name": "stdout",
     "output_type": "stream",
     "text": [
      "H\n",
      "E\n",
      "L\n",
      "F\n",
      "R\n"
     ]
    }
   ],
   "source": [
    "s='stegonograpHy is the practicE of conceaLing a File,message,image,or video within anotheR'\n",
    "for char in s:\n",
    "    if char.isupper():\n",
    "        print(char)"
   ]
  },
  {
   "cell_type": "code",
   "execution_count": 11,
   "id": "28ca01e6-c896-4b92-a185-d16db8d44bca",
   "metadata": {},
   "outputs": [
    {
     "name": "stdout",
     "output_type": "stream",
     "text": [
      "Doing important work= 0\n",
      "Doing important work= 1\n",
      "Doing important work= 2\n",
      "Doing important work= 3\n",
      "Doing important work= 4\n",
      "Doing important work= 5\n",
      "Doing important work= 6\n",
      "Doing important work= 7\n",
      "Doing important work= 8\n",
      "Doing important work= 9\n"
     ]
    }
   ],
   "source": [
    "for i in range(10):\n",
    "    print(\"Doing important work=\",i)"
   ]
  },
  {
   "cell_type": "code",
   "execution_count": 13,
   "id": "70092e1e-7a0b-4e0b-a464-bddbfc47413c",
   "metadata": {},
   "outputs": [
    {
     "name": "stdout",
     "output_type": "stream",
     "text": [
      "0\n",
      "1\n",
      "2\n",
      "3\n",
      "4\n",
      "5\n"
     ]
    }
   ],
   "source": [
    "i=0\n",
    "while i<=5:\n",
    "    print(i)\n",
    "    i=i+1"
   ]
  },
  {
   "cell_type": "code",
   "execution_count": 15,
   "id": "202f155a-04d7-4ae5-ba40-8d71eb6b6e5e",
   "metadata": {},
   "outputs": [
    {
     "name": "stdout",
     "output_type": "stream",
     "text": [
      "[0, 1, 4, 9, 16]\n"
     ]
    }
   ],
   "source": [
    "squares=[n**2 for n in range(5)]\n",
    "print(squares)"
   ]
  },
  {
   "cell_type": "code",
   "execution_count": 17,
   "id": "2471f25d-877b-4529-936b-71585176a014",
   "metadata": {},
   "outputs": [
    {
     "name": "stdout",
     "output_type": "stream",
     "text": [
      "[0, 1, 4, 9, 16, 25, 36, 49, 64, 81, 100, 121, 144, 169, 196, 225, 256, 289, 324, 361, 400, 441, 484, 529, 576, 625, 676, 729, 784, 841, 900, 961, 1024, 1089, 1156, 1225, 1296, 1369, 1444, 1521, 1600, 1681, 1764, 1849, 1936, 2025, 2116, 2209, 2304, 2401, 2500, 2601, 2704, 2809, 2916, 3025, 3136, 3249, 3364, 3481, 3600, 3721, 3844, 3969, 4096, 4225, 4356, 4489, 4624, 4761, 4900, 5041, 5184, 5329, 5476, 5625, 5776, 5929, 6084, 6241, 6400, 6561, 6724, 6889, 7056, 7225, 7396, 7569, 7744, 7921, 8100, 8281, 8464, 8649, 8836, 9025, 9216, 9409, 9604, 9801]\n"
     ]
    }
   ],
   "source": [
    "squares=[n**2 for n in range(100)]\n",
    "print(squares)"
   ]
  },
  {
   "cell_type": "code",
   "execution_count": 24,
   "id": "728f8f10-4235-4817-93ed-c641c8758277",
   "metadata": {},
   "outputs": [
    {
     "data": {
      "text/plain": [
       "True"
      ]
     },
     "execution_count": 24,
     "metadata": {},
     "output_type": "execute_result"
    }
   ],
   "source": [
    "x='pluto is a planet'\n",
    "y=\"pluto is a planet\"\n",
    "x==y\n"
   ]
  },
  {
   "cell_type": "code",
   "execution_count": 28,
   "id": "bbee2c57-ac7f-4dc8-9756-8a3173481eef",
   "metadata": {},
   "outputs": [
    {
     "name": "stdout",
     "output_type": "stream",
     "text": [
      "hello\n",
      "world\n"
     ]
    }
   ],
   "source": [
    "heloo=\"hello\\nworld\"\n",
    "print(heloo)"
   ]
  },
  {
   "cell_type": "code",
   "execution_count": 30,
   "id": "20d65d76-501a-4b49-8b26-132a776ef8a5",
   "metadata": {},
   "outputs": [
    {
     "name": "stdout",
     "output_type": "stream",
     "text": [
      "hello\n",
      "world\n"
     ]
    }
   ],
   "source": [
    "hellow=\"\"\"hello\n",
    "world\"\"\"\n",
    "print(hellow)"
   ]
  },
  {
   "cell_type": "code",
   "execution_count": 32,
   "id": "b02bd989-8226-4dd7-8696-04815a61e1d2",
   "metadata": {},
   "outputs": [
    {
     "data": {
      "text/plain": [
       "True"
      ]
     },
     "execution_count": 32,
     "metadata": {},
     "output_type": "execute_result"
    }
   ],
   "source": [
    "heloo==hellow"
   ]
  },
  {
   "cell_type": "code",
   "execution_count": 36,
   "id": "81c055ab-14ef-4e64-838b-a57c5e23afa1",
   "metadata": {},
   "outputs": [
    {
     "name": "stdout",
     "output_type": "stream",
     "text": [
      "hello\n",
      "world\n",
      "hello$pluto\n"
     ]
    }
   ],
   "source": [
    "print(\"hello\")\n",
    "print(\"world\")\n",
    "print(\"hello\",end='$')\n",
    "print(\"pluto\")"
   ]
  },
  {
   "cell_type": "code",
   "execution_count": 40,
   "id": "e82c8d54-1061-42e1-9655-5ba9a7fa71e8",
   "metadata": {},
   "outputs": [
    {
     "data": {
      "text/plain": [
       "'l'"
      ]
     },
     "execution_count": 40,
     "metadata": {},
     "output_type": "execute_result"
    }
   ],
   "source": [
    "#indexing\n",
    "planet='pluto'\n",
    "planet[1]"
   ]
  },
  {
   "cell_type": "code",
   "execution_count": 42,
   "id": "3e390ed4-ed3d-41e9-a007-af86feb67c4b",
   "metadata": {},
   "outputs": [
    {
     "data": {
      "text/plain": [
       "5"
      ]
     },
     "execution_count": 42,
     "metadata": {},
     "output_type": "execute_result"
    }
   ],
   "source": [
    "len(planet)"
   ]
  },
  {
   "cell_type": "code",
   "execution_count": 44,
   "id": "5b64b468-5d6d-4f59-ab5b-a9cce8b9b5ec",
   "metadata": {},
   "outputs": [
    {
     "data": {
      "text/plain": [
       "'MY NAME IS NUPUR'"
      ]
     },
     "execution_count": 44,
     "metadata": {},
     "output_type": "execute_result"
    }
   ],
   "source": [
    "claim= 'my name is nupur'\n",
    "claim.upper()"
   ]
  },
  {
   "cell_type": "code",
   "execution_count": 56,
   "id": "b4319d47-d8f8-4a24-addd-66f0647272d9",
   "metadata": {},
   "outputs": [
    {
     "data": {
      "text/plain": [
       "2"
      ]
     },
     "execution_count": 56,
     "metadata": {},
     "output_type": "execute_result"
    }
   ],
   "source": [
    "claim.index(' ')"
   ]
  },
  {
   "cell_type": "code",
   "execution_count": 58,
   "id": "675cb626-61d9-45b9-91c1-3801690be7f3",
   "metadata": {},
   "outputs": [
    {
     "data": {
      "text/plain": [
       "['my', 'name', 'is', 'nupur']"
      ]
     },
     "execution_count": 58,
     "metadata": {},
     "output_type": "execute_result"
    }
   ],
   "source": [
    "words=claim.split()\n",
    "words"
   ]
  },
  {
   "cell_type": "code",
   "execution_count": 62,
   "id": "d5325864-bef0-42ae-9438-ce1d8ccc00c3",
   "metadata": {},
   "outputs": [
    {
     "name": "stdout",
     "output_type": "stream",
     "text": [
      "Year:1998 Month:04 Day:07\n"
     ]
    }
   ],
   "source": [
    "date='1998-04-07'\n",
    "year,month,day=date.split('-')\n",
    "print(f\"Year:{year} Month:{month} Day:{day}\")"
   ]
  },
  {
   "cell_type": "code",
   "execution_count": 64,
   "id": "a8772a99-0c46-40d7-93c1-19b98140e4a6",
   "metadata": {},
   "outputs": [
    {
     "data": {
      "text/plain": [
       "'07/04/1998'"
      ]
     },
     "execution_count": 64,
     "metadata": {},
     "output_type": "execute_result"
    }
   ],
   "source": [
    "'/'.join([day,month,year])"
   ]
  },
  {
   "cell_type": "code",
   "execution_count": 66,
   "id": "2d420c09-32ca-4625-976f-0faedb233c8c",
   "metadata": {},
   "outputs": [
    {
     "data": {
      "text/plain": [
       "'16-02-01-034'"
      ]
     },
     "execution_count": 66,
     "metadata": {},
     "output_type": "execute_result"
    }
   ],
   "source": [
    "divider='-'\n",
    "session='16'\n",
    "semester='02'\n",
    "depertment='01'\n",
    "id='034'\n",
    "divider.join([session,semester,depertment,id])"
   ]
  },
  {
   "cell_type": "code",
   "execution_count": 68,
   "id": "ddb96aec-9285-4f01-bcdd-25089ee43fc3",
   "metadata": {},
   "outputs": [],
   "source": [
    "numbers={'one':1,'two':2,'three':3}"
   ]
  },
  {
   "cell_type": "code",
   "execution_count": 70,
   "id": "9b6f3fec-b6bb-4230-972a-2953b2b7a1cb",
   "metadata": {},
   "outputs": [
    {
     "data": {
      "text/plain": [
       "1"
      ]
     },
     "execution_count": 70,
     "metadata": {},
     "output_type": "execute_result"
    }
   ],
   "source": [
    "numbers['one']"
   ]
  },
  {
   "cell_type": "code",
   "execution_count": 72,
   "id": "74489190-0111-42d4-a4b9-4570d7c31a43",
   "metadata": {},
   "outputs": [
    {
     "data": {
      "text/plain": [
       "{'one': 1, 'two': 2, 'three': 3, 'eleven': 11}"
      ]
     },
     "execution_count": 72,
     "metadata": {},
     "output_type": "execute_result"
    }
   ],
   "source": [
    "numbers['eleven']=11\n",
    "numbers"
   ]
  },
  {
   "cell_type": "code",
   "execution_count": 74,
   "id": "dc815c0c-05ea-41d6-9f33-e2fc35f4bbef",
   "metadata": {},
   "outputs": [
    {
     "data": {
      "text/plain": [
       "{'one': 'Nupur', 'two': 2, 'three': 3, 'eleven': 11}"
      ]
     },
     "execution_count": 74,
     "metadata": {},
     "output_type": "execute_result"
    }
   ],
   "source": [
    "numbers['one']='Nupur'\n",
    "numbers"
   ]
  },
  {
   "cell_type": "code",
   "execution_count": 76,
   "id": "fa3ae94c-635d-4e4d-a7c4-ac5322bdb71a",
   "metadata": {},
   "outputs": [
    {
     "name": "stdout",
     "output_type": "stream",
     "text": [
      "True\n",
      "False\n"
     ]
    }
   ],
   "source": [
    "print('one' in numbers)\n",
    "print('ten' in numbers)"
   ]
  },
  {
   "cell_type": "code",
   "execution_count": 84,
   "id": "c9489465-31a2-4dd0-bca5-b3c9cf47cf7e",
   "metadata": {},
   "outputs": [
    {
     "name": "stdout",
     "output_type": "stream",
     "text": [
      "one=Nupur\n",
      "two=2\n",
      "three=3\n",
      "eleven=11\n"
     ]
    }
   ],
   "source": [
    "for k in numbers:\n",
    "    print(f\"{k}={numbers[k]}\")"
   ]
  },
  {
   "cell_type": "code",
   "execution_count": 88,
   "id": "e14467b1-d928-43e7-abe1-2aecea331815",
   "metadata": {},
   "outputs": [
    {
     "name": "stdout",
     "output_type": "stream",
     "text": [
      "dict_keys(['one', 'two', 'three', 'eleven'])\n",
      "dict_values(['Nupur', 2, 3, 11])\n"
     ]
    }
   ],
   "source": [
    "print(numbers.keys())\n",
    "print(numbers.values())"
   ]
  },
  {
   "cell_type": "code",
   "execution_count": 90,
   "id": "c5bbe5dc-c843-483e-8c33-5f6614c55c45",
   "metadata": {},
   "outputs": [
    {
     "data": {
      "text/plain": [
       "3.141592653589793"
      ]
     },
     "execution_count": 90,
     "metadata": {},
     "output_type": "execute_result"
    }
   ],
   "source": [
    "import math as mt\n",
    "mt.pi"
   ]
  },
  {
   "cell_type": "code",
   "execution_count": 92,
   "id": "5ae48da7-ea89-4476-b455-7d826fd17921",
   "metadata": {},
   "outputs": [
    {
     "name": "stdout",
     "output_type": "stream",
     "text": [
      "3.141592653589793\n",
      "5.0\n"
     ]
    }
   ],
   "source": [
    "from math import *\n",
    "print(pi) \n",
    "print(log(32,2))"
   ]
  },
  {
   "cell_type": "code",
   "execution_count": null,
   "id": "d625fb1a-a1e7-43ed-b370-2d19ffa079d6",
   "metadata": {},
   "outputs": [],
   "source": []
  }
 ],
 "metadata": {
  "kernelspec": {
   "display_name": "Python [conda env:base] *",
   "language": "python",
   "name": "conda-base-py"
  },
  "language_info": {
   "codemirror_mode": {
    "name": "ipython",
    "version": 3
   },
   "file_extension": ".py",
   "mimetype": "text/x-python",
   "name": "python",
   "nbconvert_exporter": "python",
   "pygments_lexer": "ipython3",
   "version": "3.12.7"
  }
 },
 "nbformat": 4,
 "nbformat_minor": 5
}
